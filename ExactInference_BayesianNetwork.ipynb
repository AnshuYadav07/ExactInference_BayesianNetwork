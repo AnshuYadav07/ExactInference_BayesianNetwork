{
  "nbformat": 4,
  "nbformat_minor": 0,
  "metadata": {
    "colab": {
      "provenance": [],
      "authorship_tag": "ABX9TyM2rwN2yjoZSa9y6cCEfZo8",
      "include_colab_link": true
    },
    "kernelspec": {
      "name": "python3",
      "display_name": "Python 3"
    },
    "language_info": {
      "name": "python"
    }
  },
  "cells": [
    {
      "cell_type": "markdown",
      "metadata": {
        "id": "view-in-github",
        "colab_type": "text"
      },
      "source": [
        "<a href=\"https://colab.research.google.com/github/AnshuYadav07/ExactInference_BayesianNetwork/blob/main/ExactInference_BayesianNetwork.ipynb\" target=\"_parent\"><img src=\"https://colab.research.google.com/assets/colab-badge.svg\" alt=\"Open In Colab\"/></a>"
      ]
    },
    {
      "cell_type": "code",
      "source": [
        "!pip install pgmpy\n"
      ],
      "metadata": {
        "colab": {
          "base_uri": "https://localhost:8080/"
        },
        "id": "fwvNyWanIClB",
        "outputId": "30556f38-8c04-4444-ecc6-8c9bf4723324"
      },
      "execution_count": 3,
      "outputs": [
        {
          "output_type": "stream",
          "name": "stdout",
          "text": [
            "Collecting pgmpy\n",
            "  Downloading pgmpy-0.1.26-py3-none-any.whl.metadata (9.1 kB)\n",
            "Requirement already satisfied: networkx in /usr/local/lib/python3.10/dist-packages (from pgmpy) (3.4.1)\n",
            "Requirement already satisfied: numpy in /usr/local/lib/python3.10/dist-packages (from pgmpy) (1.26.4)\n",
            "Requirement already satisfied: scipy in /usr/local/lib/python3.10/dist-packages (from pgmpy) (1.13.1)\n",
            "Requirement already satisfied: scikit-learn in /usr/local/lib/python3.10/dist-packages (from pgmpy) (1.5.2)\n",
            "Requirement already satisfied: pandas in /usr/local/lib/python3.10/dist-packages (from pgmpy) (2.2.2)\n",
            "Requirement already satisfied: pyparsing in /usr/local/lib/python3.10/dist-packages (from pgmpy) (3.2.0)\n",
            "Requirement already satisfied: torch in /usr/local/lib/python3.10/dist-packages (from pgmpy) (2.4.1+cu121)\n",
            "Requirement already satisfied: statsmodels in /usr/local/lib/python3.10/dist-packages (from pgmpy) (0.14.4)\n",
            "Requirement already satisfied: tqdm in /usr/local/lib/python3.10/dist-packages (from pgmpy) (4.66.5)\n",
            "Requirement already satisfied: joblib in /usr/local/lib/python3.10/dist-packages (from pgmpy) (1.4.2)\n",
            "Requirement already satisfied: opt-einsum in /usr/local/lib/python3.10/dist-packages (from pgmpy) (3.4.0)\n",
            "Requirement already satisfied: xgboost in /usr/local/lib/python3.10/dist-packages (from pgmpy) (2.1.1)\n",
            "Requirement already satisfied: google-generativeai in /usr/local/lib/python3.10/dist-packages (from pgmpy) (0.7.2)\n",
            "Requirement already satisfied: google-ai-generativelanguage==0.6.6 in /usr/local/lib/python3.10/dist-packages (from google-generativeai->pgmpy) (0.6.6)\n",
            "Requirement already satisfied: google-api-core in /usr/local/lib/python3.10/dist-packages (from google-generativeai->pgmpy) (2.19.2)\n",
            "Requirement already satisfied: google-api-python-client in /usr/local/lib/python3.10/dist-packages (from google-generativeai->pgmpy) (2.137.0)\n",
            "Requirement already satisfied: google-auth>=2.15.0 in /usr/local/lib/python3.10/dist-packages (from google-generativeai->pgmpy) (2.27.0)\n",
            "Requirement already satisfied: protobuf in /usr/local/lib/python3.10/dist-packages (from google-generativeai->pgmpy) (3.20.3)\n",
            "Requirement already satisfied: pydantic in /usr/local/lib/python3.10/dist-packages (from google-generativeai->pgmpy) (2.9.2)\n",
            "Requirement already satisfied: typing-extensions in /usr/local/lib/python3.10/dist-packages (from google-generativeai->pgmpy) (4.12.2)\n",
            "Requirement already satisfied: proto-plus<2.0.0dev,>=1.22.3 in /usr/local/lib/python3.10/dist-packages (from google-ai-generativelanguage==0.6.6->google-generativeai->pgmpy) (1.24.0)\n",
            "Requirement already satisfied: python-dateutil>=2.8.2 in /usr/local/lib/python3.10/dist-packages (from pandas->pgmpy) (2.8.2)\n",
            "Requirement already satisfied: pytz>=2020.1 in /usr/local/lib/python3.10/dist-packages (from pandas->pgmpy) (2024.2)\n",
            "Requirement already satisfied: tzdata>=2022.7 in /usr/local/lib/python3.10/dist-packages (from pandas->pgmpy) (2024.2)\n",
            "Requirement already satisfied: threadpoolctl>=3.1.0 in /usr/local/lib/python3.10/dist-packages (from scikit-learn->pgmpy) (3.5.0)\n",
            "Requirement already satisfied: patsy>=0.5.6 in /usr/local/lib/python3.10/dist-packages (from statsmodels->pgmpy) (0.5.6)\n",
            "Requirement already satisfied: packaging>=21.3 in /usr/local/lib/python3.10/dist-packages (from statsmodels->pgmpy) (24.1)\n",
            "Requirement already satisfied: filelock in /usr/local/lib/python3.10/dist-packages (from torch->pgmpy) (3.16.1)\n",
            "Requirement already satisfied: sympy in /usr/local/lib/python3.10/dist-packages (from torch->pgmpy) (1.13.3)\n",
            "Requirement already satisfied: jinja2 in /usr/local/lib/python3.10/dist-packages (from torch->pgmpy) (3.1.4)\n",
            "Requirement already satisfied: fsspec in /usr/local/lib/python3.10/dist-packages (from torch->pgmpy) (2024.6.1)\n",
            "Requirement already satisfied: nvidia-nccl-cu12 in /usr/local/lib/python3.10/dist-packages (from xgboost->pgmpy) (2.23.4)\n",
            "Requirement already satisfied: googleapis-common-protos<2.0.dev0,>=1.56.2 in /usr/local/lib/python3.10/dist-packages (from google-api-core->google-generativeai->pgmpy) (1.65.0)\n",
            "Requirement already satisfied: requests<3.0.0.dev0,>=2.18.0 in /usr/local/lib/python3.10/dist-packages (from google-api-core->google-generativeai->pgmpy) (2.32.3)\n",
            "Requirement already satisfied: cachetools<6.0,>=2.0.0 in /usr/local/lib/python3.10/dist-packages (from google-auth>=2.15.0->google-generativeai->pgmpy) (5.5.0)\n",
            "Requirement already satisfied: pyasn1-modules>=0.2.1 in /usr/local/lib/python3.10/dist-packages (from google-auth>=2.15.0->google-generativeai->pgmpy) (0.4.1)\n",
            "Requirement already satisfied: rsa<5,>=3.1.4 in /usr/local/lib/python3.10/dist-packages (from google-auth>=2.15.0->google-generativeai->pgmpy) (4.9)\n",
            "Requirement already satisfied: six in /usr/local/lib/python3.10/dist-packages (from patsy>=0.5.6->statsmodels->pgmpy) (1.16.0)\n",
            "Requirement already satisfied: httplib2<1.dev0,>=0.19.0 in /usr/local/lib/python3.10/dist-packages (from google-api-python-client->google-generativeai->pgmpy) (0.22.0)\n",
            "Requirement already satisfied: google-auth-httplib2<1.0.0,>=0.2.0 in /usr/local/lib/python3.10/dist-packages (from google-api-python-client->google-generativeai->pgmpy) (0.2.0)\n",
            "Requirement already satisfied: uritemplate<5,>=3.0.1 in /usr/local/lib/python3.10/dist-packages (from google-api-python-client->google-generativeai->pgmpy) (4.1.1)\n",
            "Requirement already satisfied: MarkupSafe>=2.0 in /usr/local/lib/python3.10/dist-packages (from jinja2->torch->pgmpy) (3.0.1)\n",
            "Requirement already satisfied: annotated-types>=0.6.0 in /usr/local/lib/python3.10/dist-packages (from pydantic->google-generativeai->pgmpy) (0.7.0)\n",
            "Requirement already satisfied: pydantic-core==2.23.4 in /usr/local/lib/python3.10/dist-packages (from pydantic->google-generativeai->pgmpy) (2.23.4)\n",
            "Requirement already satisfied: mpmath<1.4,>=1.1.0 in /usr/local/lib/python3.10/dist-packages (from sympy->torch->pgmpy) (1.3.0)\n",
            "Requirement already satisfied: grpcio<2.0dev,>=1.33.2 in /usr/local/lib/python3.10/dist-packages (from google-api-core[grpc]!=2.0.*,!=2.1.*,!=2.10.*,!=2.2.*,!=2.3.*,!=2.4.*,!=2.5.*,!=2.6.*,!=2.7.*,!=2.8.*,!=2.9.*,<3.0.0dev,>=1.34.1->google-ai-generativelanguage==0.6.6->google-generativeai->pgmpy) (1.64.1)\n",
            "Requirement already satisfied: grpcio-status<2.0.dev0,>=1.33.2 in /usr/local/lib/python3.10/dist-packages (from google-api-core[grpc]!=2.0.*,!=2.1.*,!=2.10.*,!=2.2.*,!=2.3.*,!=2.4.*,!=2.5.*,!=2.6.*,!=2.7.*,!=2.8.*,!=2.9.*,<3.0.0dev,>=1.34.1->google-ai-generativelanguage==0.6.6->google-generativeai->pgmpy) (1.48.2)\n",
            "Requirement already satisfied: pyasn1<0.7.0,>=0.4.6 in /usr/local/lib/python3.10/dist-packages (from pyasn1-modules>=0.2.1->google-auth>=2.15.0->google-generativeai->pgmpy) (0.6.1)\n",
            "Requirement already satisfied: charset-normalizer<4,>=2 in /usr/local/lib/python3.10/dist-packages (from requests<3.0.0.dev0,>=2.18.0->google-api-core->google-generativeai->pgmpy) (3.4.0)\n",
            "Requirement already satisfied: idna<4,>=2.5 in /usr/local/lib/python3.10/dist-packages (from requests<3.0.0.dev0,>=2.18.0->google-api-core->google-generativeai->pgmpy) (3.10)\n",
            "Requirement already satisfied: urllib3<3,>=1.21.1 in /usr/local/lib/python3.10/dist-packages (from requests<3.0.0.dev0,>=2.18.0->google-api-core->google-generativeai->pgmpy) (2.2.3)\n",
            "Requirement already satisfied: certifi>=2017.4.17 in /usr/local/lib/python3.10/dist-packages (from requests<3.0.0.dev0,>=2.18.0->google-api-core->google-generativeai->pgmpy) (2024.8.30)\n",
            "Downloading pgmpy-0.1.26-py3-none-any.whl (2.0 MB)\n",
            "\u001b[2K   \u001b[90m━━━━━━━━━━━━━━━━━━━━━━━━━━━━━━━━━━━━━━━━\u001b[0m \u001b[32m2.0/2.0 MB\u001b[0m \u001b[31m15.7 MB/s\u001b[0m eta \u001b[36m0:00:00\u001b[0m\n",
            "\u001b[?25hInstalling collected packages: pgmpy\n",
            "Successfully installed pgmpy-0.1.26\n"
          ]
        }
      ]
    },
    {
      "cell_type": "code",
      "execution_count": 7,
      "metadata": {
        "id": "54ARTCPnHuG_"
      },
      "outputs": [],
      "source": [
        "# Import necessary libraries\n",
        "from pgmpy.models import BayesianNetwork\n",
        "from pgmpy.factors.discrete import TabularCPD\n",
        "from pgmpy.inference import VariableElimination\n",
        "\n",
        "# Step 1: Define the structure of the Bayesian Network\n",
        "model = BayesianNetwork([('Disease', 'Fever'),\n",
        "                         ('Disease', 'Cough'),\n",
        "                         ('Disease', 'Fatigue')])\n"
      ]
    },
    {
      "cell_type": "code",
      "source": [
        "\n",
        "# Step 2: Define the Conditional Probability Distributions (CPDs)\n",
        "# CPD for Disease (root node)\n",
        "cpd_disease = TabularCPD(variable='Disease',\n",
        "                         variable_card=2,\n",
        "                         values=[[0.3], [0.7]],\n",
        "                         state_names={'Disease': ['No Disease', 'Has Disease']})\n",
        "\n",
        "# CPD for Fever given Disease\n",
        "cpd_fever = TabularCPD(variable='Fever',\n",
        "                       variable_card=2,\n",
        "                       values=[[0.8, 0.2], [0.2, 0.8]],\n",
        "                       evidence=['Disease'],\n",
        "                       evidence_card=[2],\n",
        "                       state_names={'Fever': ['No Fever', 'Has Fever'], 'Disease': ['No Disease', 'Has Disease']})\n",
        "\n",
        "# CPD for Cough given Disease\n",
        "cpd_cough = TabularCPD(variable='Cough',\n",
        "                       variable_card=2,\n",
        "                       values=[[0.7, 0.3], [0.3, 0.7]],\n",
        "                       evidence=['Disease'],\n",
        "                       evidence_card=[2],\n",
        "                       state_names={'Cough': ['No Cough', 'Has Cough'], 'Disease': ['No Disease', 'Has Disease']})\n",
        "\n",
        "# CPD for Fatigue given Disease\n",
        "cpd_fatigue = TabularCPD(variable='Fatigue',\n",
        "                         variable_card=2,\n",
        "                         values=[[0.9, 0.4], [0.1, 0.6]],\n",
        "                         evidence=['Disease'],\n",
        "                         evidence_card=[2],\n",
        "                         state_names={'Fatigue': ['No Fatigue', 'Has Fatigue'], 'Disease': ['No Disease', 'Has Disease']})\n",
        "\n",
        "\n"
      ],
      "metadata": {
        "id": "1C6FMLojU02U"
      },
      "execution_count": 9,
      "outputs": []
    },
    {
      "cell_type": "code",
      "source": [
        "# Step 3: Add the CPDs to the model\n",
        "model.add_cpds(cpd_disease, cpd_fever, cpd_cough, cpd_fatigue)\n",
        "\n"
      ],
      "metadata": {
        "colab": {
          "base_uri": "https://localhost:8080/"
        },
        "id": "3aLzma6OU5cE",
        "outputId": "b0377573-eb60-4520-fcbc-5538baff8e44"
      },
      "execution_count": 11,
      "outputs": [
        {
          "output_type": "stream",
          "name": "stderr",
          "text": [
            "WARNING:pgmpy:Replacing existing CPD for Disease\n",
            "WARNING:pgmpy:Replacing existing CPD for Fever\n",
            "WARNING:pgmpy:Replacing existing CPD for Cough\n",
            "WARNING:pgmpy:Replacing existing CPD for Fatigue\n"
          ]
        }
      ]
    },
    {
      "cell_type": "code",
      "source": [
        "# Step 4: Verify the model\n",
        "assert model.check_model()"
      ],
      "metadata": {
        "id": "huExVpnGU-oT"
      },
      "execution_count": 12,
      "outputs": []
    },
    {
      "cell_type": "code",
      "source": [
        "# Step 5: Perform exact inference using Variable Elimination\n",
        "infer = VariableElimination(model)\n"
      ],
      "metadata": {
        "id": "OKljBCj4VDLD"
      },
      "execution_count": 13,
      "outputs": []
    },
    {
      "cell_type": "code",
      "source": [
        "# Step 6: Define the symptoms provided by the user as evidence\n",
        "# Example: the user has Fever and Cough but no Fatigue\n",
        "evidence = {'Fever': 'Has Fever', 'Cough': 'Has Cough', 'Fatigue': 'No Fatigue'}\n",
        "\n",
        "# Step 7: Query the probability of having the disease given the symptoms\n",
        "result = infer.query(variables=['Disease'], evidence=evidence)\n",
        "\n",
        "# Step 8: Print the result\n",
        "print(result)"
      ],
      "metadata": {
        "colab": {
          "base_uri": "https://localhost:8080/"
        },
        "id": "G_zdLARJVG2L",
        "outputId": "0425f953-d7c9-4b25-bc0d-f41a6f211313"
      },
      "execution_count": 14,
      "outputs": [
        {
          "output_type": "stream",
          "name": "stdout",
          "text": [
            "+----------------------+----------------+\n",
            "| Disease              |   phi(Disease) |\n",
            "+======================+================+\n",
            "| Disease(No Disease)  |         0.0936 |\n",
            "+----------------------+----------------+\n",
            "| Disease(Has Disease) |         0.9064 |\n",
            "+----------------------+----------------+\n"
          ]
        }
      ]
    },
    {
      "cell_type": "code",
      "source": [
        "# Step 8: Create a Markov Network for Symptom Correlations\n",
        "# Create a Markov Network (Markov Random Field)\n",
        "from pgmpy.models import MarkovNetwork\n",
        "from pgmpy.factors.discrete import DiscreteFactor\n",
        "from pgmpy.inference import BeliefPropagation\n",
        "\n",
        "markov_net = MarkovNetwork()\n",
        "\n",
        "# Define the structure (Undirected Graph)\n",
        "markov_net.add_edges_from([('Fever', 'Cough'), ('Disease', 'Fever'), ('Disease', 'Cough')])\n",
        "\n",
        "# Add potential functions (factors) to the Markov Network\n",
        "# These can be thought of as joint probability distributions over the connected nodes\n",
        "factor_disease_fever = DiscreteFactor(variables=['Disease', 'Fever'], cardinality=[2, 2],\n",
        "                                      values=[0.8, 0.2, 0.1, 0.9])  # P(Fever | Disease)\n",
        "\n",
        "factor_disease_cough = DiscreteFactor(variables=['Disease', 'Cough'], cardinality=[2, 2],\n",
        "                                      values=[0.9, 0.1, 0.4, 0.6])  # P(Cough | Disease)\n",
        "\n",
        "factor_fever_cough = DiscreteFactor(variables=['Fever', 'Cough'], cardinality=[2, 2],\n",
        "                                    values=[0.95, 0.05, 0.5, 0.5])  # Correlation between Fever & Cough\n",
        "\n",
        "# Add the factors to the Markov Network\n",
        "markov_net.add_factors(factor_disease_fever, factor_disease_cough, factor_fever_cough)\n",
        "\n",
        "# Perform inference on the Markov Network using Belief Propagation\n",
        "belief_propagation = BeliefPropagation(markov_net)\n",
        "\n",
        "# Query: What is the marginal probability distribution of Fever and Cough?\n",
        "marginal_fever = belief_propagation.query(variables=['Fever'])\n",
        "marginal_cough = belief_propagation.query(variables=['Cough'])\n",
        "\n",
        "print(\"\\nMarkov Network Inference Results:\")\n",
        "print(\"Marginal Probability of Fever:\")\n",
        "print(marginal_fever)"
      ],
      "metadata": {
        "colab": {
          "base_uri": "https://localhost:8080/"
        },
        "id": "KGlzIfOATnR2",
        "outputId": "6dc7aaeb-d06b-46eb-c4fe-5db266c27dbb"
      },
      "execution_count": 5,
      "outputs": [
        {
          "output_type": "stream",
          "name": "stdout",
          "text": [
            "\n",
            "Markov Network Inference Results:\n",
            "Marginal Probability of Fever:\n",
            "+----------+--------------+\n",
            "| Fever    |   phi(Fever) |\n",
            "+==========+==============+\n",
            "| Fever(0) |       0.5700 |\n",
            "+----------+--------------+\n",
            "| Fever(1) |       0.4300 |\n",
            "+----------+--------------+\n"
          ]
        }
      ]
    },
    {
      "cell_type": "code",
      "source": [
        "print(\"\\nMarginal Probability of Cough:\")\n",
        "print(marginal_cough)"
      ],
      "metadata": {
        "colab": {
          "base_uri": "https://localhost:8080/"
        },
        "id": "CY069aoVTsFt",
        "outputId": "ce105cad-f6aa-48c0-86d3-5723f16334dc"
      },
      "execution_count": 6,
      "outputs": [
        {
          "output_type": "stream",
          "name": "stdout",
          "text": [
            "\n",
            "Marginal Probability of Cough:\n",
            "+----------+--------------+\n",
            "| Cough    |   phi(Cough) |\n",
            "+==========+==============+\n",
            "| Cough(0) |       0.7756 |\n",
            "+----------+--------------+\n",
            "| Cough(1) |       0.2244 |\n",
            "+----------+--------------+\n"
          ]
        }
      ]
    }
  ]
}